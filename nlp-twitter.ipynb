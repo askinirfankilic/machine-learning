{
 "cells": [
  {
   "cell_type": "code",
   "execution_count": 1,
   "metadata": {
    "_cell_guid": "b1076dfc-b9ad-4769-8c92-a6c4dae69d19",
    "_uuid": "8f2839f25d086af736a60e9eeb907d3b93b6e0e5",
    "execution": {
     "iopub.execute_input": "2021-01-07T14:34:08.690060Z",
     "iopub.status.busy": "2021-01-07T14:34:08.689234Z",
     "iopub.status.idle": "2021-01-07T14:34:08.695962Z",
     "shell.execute_reply": "2021-01-07T14:34:08.694803Z"
    },
    "papermill": {
     "duration": 0.029295,
     "end_time": "2021-01-07T14:34:08.696203",
     "exception": false,
     "start_time": "2021-01-07T14:34:08.666908",
     "status": "completed"
    },
    "tags": []
   },
   "outputs": [
    {
     "name": "stdout",
     "output_type": "stream",
     "text": [
      "/kaggle/input/nlp-getting-started/sample_submission.csv\n",
      "/kaggle/input/nlp-getting-started/train.csv\n",
      "/kaggle/input/nlp-getting-started/test.csv\n"
     ]
    }
   ],
   "source": [
    "# This Python 3 environment comes with many helpful analytics libraries installed\n",
    "# It is defined by the kaggle/python Docker image: https://github.com/kaggle/docker-python\n",
    "# For example, here's several helpful packages to load\n",
    "\n",
    "import numpy as np # linear algebra\n",
    "import pandas as pd # data processing, CSV file I/O (e.g. pd.read_csv)\n",
    "\n",
    "# Input data files are available in the read-only \"../input/\" directory\n",
    "# For example, running this (by clicking run or pressing Shift+Enter) will list all files under the input directory\n",
    "\n",
    "import os\n",
    "for dirname, _, filenames in os.walk('/kaggle/input'):\n",
    "    for filename in filenames:\n",
    "        print(os.path.join(dirname, filename))\n",
    "\n",
    "# You can write up to 20GB to the current directory (/kaggle/working/) that gets preserved as output when you create a version using \"Save & Run All\" \n",
    "# You can also write temporary files to /kaggle/temp/, but they won't be saved outside of the current session"
   ]
  },
  {
   "cell_type": "code",
   "execution_count": 2,
   "metadata": {
    "execution": {
     "iopub.execute_input": "2021-01-07T14:34:08.725748Z",
     "iopub.status.busy": "2021-01-07T14:34:08.725075Z",
     "iopub.status.idle": "2021-01-07T14:34:08.803793Z",
     "shell.execute_reply": "2021-01-07T14:34:08.803008Z"
    },
    "papermill": {
     "duration": 0.094334,
     "end_time": "2021-01-07T14:34:08.803929",
     "exception": false,
     "start_time": "2021-01-07T14:34:08.709595",
     "status": "completed"
    },
    "tags": []
   },
   "outputs": [],
   "source": [
    "train_data = pd.read_csv(\"/kaggle/input/nlp-getting-started/train.csv\")\n",
    "test_data = pd.read_csv(\"/kaggle/input/nlp-getting-started/test.csv\")\n"
   ]
  },
  {
   "cell_type": "code",
   "execution_count": 3,
   "metadata": {
    "execution": {
     "iopub.execute_input": "2021-01-07T14:34:08.843970Z",
     "iopub.status.busy": "2021-01-07T14:34:08.842869Z",
     "iopub.status.idle": "2021-01-07T14:34:08.847073Z",
     "shell.execute_reply": "2021-01-07T14:34:08.847607Z"
    },
    "papermill": {
     "duration": 0.031692,
     "end_time": "2021-01-07T14:34:08.847772",
     "exception": false,
     "start_time": "2021-01-07T14:34:08.816080",
     "status": "completed"
    },
    "tags": []
   },
   "outputs": [
    {
     "data": {
      "text/plain": [
       "0    Our Deeds are the Reason of this #earthquake M...\n",
       "1               Forest fire near La Ronge Sask. Canada\n",
       "2    All residents asked to 'shelter in place' are ...\n",
       "3    13,000 people receive #wildfires evacuation or...\n",
       "4    Just got sent this photo from Ruby #Alaska as ...\n",
       "Name: text, dtype: object"
      ]
     },
     "execution_count": 3,
     "metadata": {},
     "output_type": "execute_result"
    }
   ],
   "source": [
    "train_data[\"text\"].head()"
   ]
  },
  {
   "cell_type": "code",
   "execution_count": 4,
   "metadata": {
    "execution": {
     "iopub.execute_input": "2021-01-07T14:34:08.882508Z",
     "iopub.status.busy": "2021-01-07T14:34:08.881721Z",
     "iopub.status.idle": "2021-01-07T14:34:16.381180Z",
     "shell.execute_reply": "2021-01-07T14:34:16.379907Z"
    },
    "papermill": {
     "duration": 7.520954,
     "end_time": "2021-01-07T14:34:16.381395",
     "exception": false,
     "start_time": "2021-01-07T14:34:08.860441",
     "status": "completed"
    },
    "tags": []
   },
   "outputs": [
    {
     "name": "stdout",
     "output_type": "stream",
     "text": [
      "Found 29319 unique tokens.\n",
      "[[0. 0. 0. ... 0. 0. 0.]\n",
      " [0. 0. 0. ... 0. 0. 0.]\n",
      " [0. 0. 0. ... 0. 0. 0.]\n",
      " ...\n",
      " [0. 1. 1. ... 0. 0. 0.]\n",
      " [0. 0. 0. ... 0. 0. 0.]\n",
      " [0. 1. 1. ... 0. 0. 0.]]\n",
      "<bound method NDFrame.describe of          id keyword location  \\\n",
      "0         1     NaN      NaN   \n",
      "1         4     NaN      NaN   \n",
      "2         5     NaN      NaN   \n",
      "3         6     NaN      NaN   \n",
      "4         7     NaN      NaN   \n",
      "...     ...     ...      ...   \n",
      "7608  10869     NaN      NaN   \n",
      "7609  10870     NaN      NaN   \n",
      "7610  10871     NaN      NaN   \n",
      "7611  10872     NaN      NaN   \n",
      "7612  10873     NaN      NaN   \n",
      "\n",
      "                                                   text  target  \n",
      "0     Our Deeds are the Reason of this #earthquake M...       1  \n",
      "1                Forest fire near La Ronge Sask. Canada       1  \n",
      "2     All residents asked to 'shelter in place' are ...       1  \n",
      "3     13,000 people receive #wildfires evacuation or...       1  \n",
      "4     Just got sent this photo from Ruby #Alaska as ...       1  \n",
      "...                                                 ...     ...  \n",
      "7608  Two giant cranes holding a bridge collapse int...       1  \n",
      "7609  @aria_ahrary @TheTawniest The out of control w...       1  \n",
      "7610  M1.94 [01:04 UTC]?5km S of Volcano Hawaii. htt...       1  \n",
      "7611  Police investigating after an e-bike collided ...       1  \n",
      "7612  The Latest: More Homes Razed by Northern Calif...       1  \n",
      "\n",
      "[7613 rows x 5 columns]>\n"
     ]
    }
   ],
   "source": [
    "from keras.preprocessing.text import Tokenizer\n",
    "train_text_samples = train_data[\"text\"]\n",
    "test_text_samples = test_data[\"text\"]\n",
    "\n",
    "tokenizer = Tokenizer(num_words=1000);\n",
    "tokenizer.fit_on_texts(train_text_samples)\n",
    "tokenizer.fit_on_texts(test_text_samples)\n",
    "train_text_sequences = tokenizer.texts_to_sequences(train_text_samples)\n",
    "test_text_sequences = tokenizer.texts_to_sequences(test_text_samples)\n",
    "\n",
    "\n",
    "one_hot_results = tokenizer.texts_to_matrix(train_text_samples, mode='binary')\n",
    "word_index = tokenizer.word_index\n",
    "\n",
    "print('Found %s unique tokens.' % len(word_index))\n",
    "print(one_hot_results)\n",
    "\n",
    "print(train_data.describe)\n"
   ]
  },
  {
   "cell_type": "code",
   "execution_count": 5,
   "metadata": {
    "_cell_guid": "79c7e3d0-c299-4dcb-8224-4455121ee9b0",
    "_uuid": "d629ff2d2480ee46fbb7e2d37f6b5fab8052498a",
    "execution": {
     "iopub.execute_input": "2021-01-07T14:34:16.425131Z",
     "iopub.status.busy": "2021-01-07T14:34:16.424415Z",
     "iopub.status.idle": "2021-01-07T14:34:16.428412Z",
     "shell.execute_reply": "2021-01-07T14:34:16.427701Z"
    },
    "papermill": {
     "duration": 0.031927,
     "end_time": "2021-01-07T14:34:16.428543",
     "exception": false,
     "start_time": "2021-01-07T14:34:16.396616",
     "status": "completed"
    },
    "tags": []
   },
   "outputs": [
    {
     "name": "stdout",
     "output_type": "stream",
     "text": [
      "Found 9 unique tokens.\n",
      "[[0. 1. 1. ... 0. 0. 0.]\n",
      " [0. 1. 0. ... 0. 0. 0.]]\n"
     ]
    }
   ],
   "source": [
    "from keras.preprocessing.text import Tokenizer\n",
    "\n",
    "samples = ['The cat sat on the mat.', 'The dog ate my homework.']\n",
    "\n",
    "tokenizer = Tokenizer(num_words=1000);\n",
    "tokenizer.fit_on_texts(samples)\n",
    "sequences = tokenizer.texts_to_sequences(samples)\n",
    "\n",
    "one_hot_results = tokenizer.texts_to_matrix(samples, mode='binary')\n",
    "word_index = tokenizer.word_index\n",
    "\n",
    "print('Found %s unique tokens.' % len(word_index))\n",
    "print(one_hot_results)"
   ]
  },
  {
   "cell_type": "code",
   "execution_count": 6,
   "metadata": {
    "execution": {
     "iopub.execute_input": "2021-01-07T14:34:16.462018Z",
     "iopub.status.busy": "2021-01-07T14:34:16.461258Z",
     "iopub.status.idle": "2021-01-07T14:34:16.464116Z",
     "shell.execute_reply": "2021-01-07T14:34:16.464675Z"
    },
    "papermill": {
     "duration": 0.022834,
     "end_time": "2021-01-07T14:34:16.464918",
     "exception": false,
     "start_time": "2021-01-07T14:34:16.442084",
     "status": "completed"
    },
    "tags": []
   },
   "outputs": [],
   "source": [
    "from keras.datasets import imdb\n",
    "from keras import preprocessing\n",
    "\n",
    "max_features = 10000 #toplam yegane kelime sayısı\n",
    "maxlen = 20 #yorumdan alınacak kelime sayısı"
   ]
  },
  {
   "cell_type": "code",
   "execution_count": 7,
   "metadata": {
    "execution": {
     "iopub.execute_input": "2021-01-07T14:34:16.496237Z",
     "iopub.status.busy": "2021-01-07T14:34:16.495600Z",
     "iopub.status.idle": "2021-01-07T14:34:16.589937Z",
     "shell.execute_reply": "2021-01-07T14:34:16.589165Z"
    },
    "papermill": {
     "duration": 0.11131,
     "end_time": "2021-01-07T14:34:16.590173",
     "exception": false,
     "start_time": "2021-01-07T14:34:16.478863",
     "status": "completed"
    },
    "tags": []
   },
   "outputs": [],
   "source": [
    "train_text_sequences = preprocessing.sequence.pad_sequences(train_text_sequences, maxlen=maxlen)\n",
    "test_text_sequences = preprocessing.sequence.pad_sequences(test_text_sequences, maxlen=maxlen)"
   ]
  },
  {
   "cell_type": "code",
   "execution_count": 8,
   "metadata": {
    "execution": {
     "iopub.execute_input": "2021-01-07T14:34:16.627689Z",
     "iopub.status.busy": "2021-01-07T14:34:16.626936Z",
     "iopub.status.idle": "2021-01-07T14:34:16.773796Z",
     "shell.execute_reply": "2021-01-07T14:34:16.771872Z"
    },
    "papermill": {
     "duration": 0.168727,
     "end_time": "2021-01-07T14:34:16.773935",
     "exception": false,
     "start_time": "2021-01-07T14:34:16.605208",
     "status": "completed"
    },
    "tags": []
   },
   "outputs": [
    {
     "name": "stdout",
     "output_type": "stream",
     "text": [
      "Model: \"sequential\"\n",
      "_________________________________________________________________\n",
      "Layer (type)                 Output Shape              Param #   \n",
      "=================================================================\n",
      "embedding (Embedding)        (None, 20, 8)             80000     \n",
      "_________________________________________________________________\n",
      "flatten (Flatten)            (None, 160)               0         \n",
      "_________________________________________________________________\n",
      "dense (Dense)                (None, 1)                 161       \n",
      "=================================================================\n",
      "Total params: 80,161\n",
      "Trainable params: 80,161\n",
      "Non-trainable params: 0\n",
      "_________________________________________________________________\n"
     ]
    }
   ],
   "source": [
    "from keras.models import Sequential\n",
    "from keras.layers import Flatten, Dense, Embedding\n",
    "\n",
    "model = Sequential()\n",
    "\n",
    "model.add(Embedding(10000, 8, input_length=maxlen))\n",
    "\n",
    "model.add(Flatten())\n",
    "model.add(Dense(1, activation='sigmoid'))\n",
    "model.compile(optimizer='rmsprop', loss='binary_crossentropy', metrics=['accuracy'])\n",
    "model.summary()"
   ]
  },
  {
   "cell_type": "code",
   "execution_count": 9,
   "metadata": {
    "execution": {
     "iopub.execute_input": "2021-01-07T14:34:16.811916Z",
     "iopub.status.busy": "2021-01-07T14:34:16.810729Z",
     "iopub.status.idle": "2021-01-07T14:34:20.862215Z",
     "shell.execute_reply": "2021-01-07T14:34:20.861040Z"
    },
    "papermill": {
     "duration": 4.073293,
     "end_time": "2021-01-07T14:34:20.862396",
     "exception": false,
     "start_time": "2021-01-07T14:34:16.789103",
     "status": "completed"
    },
    "tags": []
   },
   "outputs": [
    {
     "name": "stdout",
     "output_type": "stream",
     "text": [
      "Epoch 1/10\n",
      "191/191 [==============================] - 0s 3ms/step - loss: 0.6639 - accuracy: 0.6115 - val_loss: 0.6351 - val_accuracy: 0.6592\n",
      "Epoch 2/10\n",
      "191/191 [==============================] - 0s 1ms/step - loss: 0.5989 - accuracy: 0.6992 - val_loss: 0.5801 - val_accuracy: 0.7223\n",
      "Epoch 3/10\n",
      "191/191 [==============================] - 0s 2ms/step - loss: 0.5375 - accuracy: 0.7488 - val_loss: 0.5391 - val_accuracy: 0.7531\n",
      "Epoch 4/10\n",
      "191/191 [==============================] - 0s 2ms/step - loss: 0.4899 - accuracy: 0.7785 - val_loss: 0.5139 - val_accuracy: 0.7597\n",
      "Epoch 5/10\n",
      "191/191 [==============================] - 0s 2ms/step - loss: 0.4577 - accuracy: 0.7998 - val_loss: 0.4966 - val_accuracy: 0.7735\n",
      "Epoch 6/10\n",
      "191/191 [==============================] - 0s 2ms/step - loss: 0.4343 - accuracy: 0.8130 - val_loss: 0.4831 - val_accuracy: 0.7800\n",
      "Epoch 7/10\n",
      "191/191 [==============================] - 0s 1ms/step - loss: 0.4166 - accuracy: 0.8199 - val_loss: 0.4740 - val_accuracy: 0.7807\n",
      "Epoch 8/10\n",
      "191/191 [==============================] - 0s 1ms/step - loss: 0.4016 - accuracy: 0.8294 - val_loss: 0.4696 - val_accuracy: 0.7853\n",
      "Epoch 9/10\n",
      "191/191 [==============================] - 0s 1ms/step - loss: 0.3895 - accuracy: 0.8346 - val_loss: 0.4641 - val_accuracy: 0.7859\n",
      "Epoch 10/10\n",
      "191/191 [==============================] - 0s 2ms/step - loss: 0.3784 - accuracy: 0.8396 - val_loss: 0.4613 - val_accuracy: 0.7840\n"
     ]
    }
   ],
   "source": [
    "history = model.fit(train_text_sequences, train_data[\"target\"], epochs=10, batch_size=32, validation_split= 0.2)"
   ]
  },
  {
   "cell_type": "code",
   "execution_count": 10,
   "metadata": {
    "execution": {
     "iopub.execute_input": "2021-01-07T14:34:20.940449Z",
     "iopub.status.busy": "2021-01-07T14:34:20.939773Z",
     "iopub.status.idle": "2021-01-07T14:34:21.094189Z",
     "shell.execute_reply": "2021-01-07T14:34:21.093321Z"
    },
    "papermill": {
     "duration": 0.193974,
     "end_time": "2021-01-07T14:34:21.094325",
     "exception": false,
     "start_time": "2021-01-07T14:34:20.900351",
     "status": "completed"
    },
    "tags": []
   },
   "outputs": [
    {
     "data": {
      "text/plain": [
       "array([[0.31201267],\n",
       "       [0.46397793],\n",
       "       [0.8716819 ],\n",
       "       ...,\n",
       "       [0.91487575],\n",
       "       [0.8069712 ],\n",
       "       [0.20928276]], dtype=float32)"
      ]
     },
     "execution_count": 10,
     "metadata": {},
     "output_type": "execute_result"
    }
   ],
   "source": [
    "model.predict(test_text_sequences)"
   ]
  },
  {
   "cell_type": "code",
   "execution_count": 11,
   "metadata": {
    "execution": {
     "iopub.execute_input": "2021-01-07T14:34:21.174444Z",
     "iopub.status.busy": "2021-01-07T14:34:21.173444Z",
     "iopub.status.idle": "2021-01-07T14:34:21.176942Z",
     "shell.execute_reply": "2021-01-07T14:34:21.176237Z"
    },
    "papermill": {
     "duration": 0.046823,
     "end_time": "2021-01-07T14:34:21.177065",
     "exception": false,
     "start_time": "2021-01-07T14:34:21.130242",
     "status": "completed"
    },
    "tags": []
   },
   "outputs": [],
   "source": [
    "def eitherZeroOne(arr):\n",
    "    for predict in arr:\n",
    "        if predict[0] < 0.50:\n",
    "            predict[0] = int(0)\n",
    "        else:\n",
    "            predict[0] = int(1)\n",
    "    return arr\n"
   ]
  },
  {
   "cell_type": "code",
   "execution_count": 12,
   "metadata": {
    "execution": {
     "iopub.execute_input": "2021-01-07T14:34:21.257753Z",
     "iopub.status.busy": "2021-01-07T14:34:21.256714Z",
     "iopub.status.idle": "2021-01-07T14:34:21.366077Z",
     "shell.execute_reply": "2021-01-07T14:34:21.366679Z"
    },
    "papermill": {
     "duration": 0.152623,
     "end_time": "2021-01-07T14:34:21.366852",
     "exception": false,
     "start_time": "2021-01-07T14:34:21.214229",
     "status": "completed"
    },
    "tags": []
   },
   "outputs": [],
   "source": [
    "submission_array = eitherZeroOne(model.predict(test_text_sequences))"
   ]
  },
  {
   "cell_type": "code",
   "execution_count": 13,
   "metadata": {
    "execution": {
     "iopub.execute_input": "2021-01-07T14:34:21.452499Z",
     "iopub.status.busy": "2021-01-07T14:34:21.451423Z",
     "iopub.status.idle": "2021-01-07T14:34:21.455138Z",
     "shell.execute_reply": "2021-01-07T14:34:21.454616Z"
    },
    "papermill": {
     "duration": 0.046085,
     "end_time": "2021-01-07T14:34:21.455259",
     "exception": false,
     "start_time": "2021-01-07T14:34:21.409174",
     "status": "completed"
    },
    "tags": []
   },
   "outputs": [],
   "source": [
    "submission_array = submission_array.reshape((3263))"
   ]
  },
  {
   "cell_type": "code",
   "execution_count": 14,
   "metadata": {
    "execution": {
     "iopub.execute_input": "2021-01-07T14:34:21.540982Z",
     "iopub.status.busy": "2021-01-07T14:34:21.540078Z",
     "iopub.status.idle": "2021-01-07T14:34:21.544692Z",
     "shell.execute_reply": "2021-01-07T14:34:21.543968Z"
    },
    "papermill": {
     "duration": 0.051483,
     "end_time": "2021-01-07T14:34:21.544834",
     "exception": false,
     "start_time": "2021-01-07T14:34:21.493351",
     "status": "completed"
    },
    "tags": []
   },
   "outputs": [],
   "source": [
    "submission_array_df = pd.DataFrame({'id': test_data[\"id\"], 'target': submission_array.astype(int)})"
   ]
  },
  {
   "cell_type": "code",
   "execution_count": 15,
   "metadata": {
    "execution": {
     "iopub.execute_input": "2021-01-07T14:34:21.627936Z",
     "iopub.status.busy": "2021-01-07T14:34:21.626936Z",
     "iopub.status.idle": "2021-01-07T14:34:21.882592Z",
     "shell.execute_reply": "2021-01-07T14:34:21.881801Z"
    },
    "papermill": {
     "duration": 0.300096,
     "end_time": "2021-01-07T14:34:21.882728",
     "exception": false,
     "start_time": "2021-01-07T14:34:21.582632",
     "status": "completed"
    },
    "tags": []
   },
   "outputs": [],
   "source": [
    "submission_array_df.to_csv('output_submission.csv', index=False)"
   ]
  },
  {
   "cell_type": "code",
   "execution_count": null,
   "metadata": {
    "papermill": {
     "duration": 0.036651,
     "end_time": "2021-01-07T14:34:21.956770",
     "exception": false,
     "start_time": "2021-01-07T14:34:21.920119",
     "status": "completed"
    },
    "tags": []
   },
   "outputs": [],
   "source": []
  }
 ],
 "metadata": {
  "kernelspec": {
   "display_name": "Python 3",
   "language": "python",
   "name": "python3"
  },
  "language_info": {
   "codemirror_mode": {
    "name": "ipython",
    "version": 3
   },
   "file_extension": ".py",
   "mimetype": "text/x-python",
   "name": "python",
   "nbconvert_exporter": "python",
   "pygments_lexer": "ipython3",
   "version": "3.7.6"
  },
  "papermill": {
   "duration": 18.420998,
   "end_time": "2021-01-07T14:34:22.101910",
   "environment_variables": {},
   "exception": null,
   "input_path": "__notebook__.ipynb",
   "output_path": "__notebook__.ipynb",
   "parameters": {},
   "start_time": "2021-01-07T14:34:03.680912",
   "version": "2.1.0"
  }
 },
 "nbformat": 4,
 "nbformat_minor": 4
}
